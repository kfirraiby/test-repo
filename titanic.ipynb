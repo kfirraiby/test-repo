{
 "cells": [
  {
   "cell_type": "code",
   "execution_count": 1,
   "metadata": {},
   "outputs": [],
   "source": [
    "import pandas as pd\n",
    "import numpy as np\n",
    "import matplotlib.pyplot as plt\n",
    "import seaborn as sns\n",
    "import scipy\n",
    "from scipy import stats\n",
    "from scipy.stats import chi2_contingency\n",
    "from scipy.stats import ttest_ind\n",
    "from missingpy import KNNImputer"
   ]
  },
  {
   "cell_type": "code",
   "execution_count": 2,
   "metadata": {},
   "outputs": [],
   "source": [
    "train = pd.read_csv(\"C:/Users/kfir/Desktop/kfir/data science projects/projects practice/titanic/train.csv\")\n",
    "test = pd.read_csv(\"C:/Users/kfir/Desktop/kfir/data science projects/projects practice/titanic/test.csv\")\n"
   ]
  },
  {
   "cell_type": "markdown",
   "metadata": {},
   "source": [
    "understand the data, check for missing and outliers "
   ]
  },
  {
   "cell_type": "code",
   "execution_count": 3,
   "metadata": {
    "scrolled": false
   },
   "outputs": [
    {
     "name": "stdout",
     "output_type": "stream",
     "text": [
      "<class 'pandas.core.frame.DataFrame'>\n",
      "RangeIndex: 891 entries, 0 to 890\n",
      "Data columns (total 12 columns):\n",
      "PassengerId    891 non-null int64\n",
      "Survived       891 non-null int64\n",
      "Pclass         891 non-null int64\n",
      "Name           891 non-null object\n",
      "Sex            891 non-null object\n",
      "Age            714 non-null float64\n",
      "SibSp          891 non-null int64\n",
      "Parch          891 non-null int64\n",
      "Ticket         891 non-null object\n",
      "Fare           891 non-null float64\n",
      "Cabin          204 non-null object\n",
      "Embarked       889 non-null object\n",
      "dtypes: float64(2), int64(5), object(5)\n",
      "memory usage: 83.6+ KB\n"
     ]
    }
   ],
   "source": [
    "train.info()"
   ]
  },
  {
   "cell_type": "code",
   "execution_count": 4,
   "metadata": {
    "scrolled": true
   },
   "outputs": [
    {
     "data": {
      "text/html": [
       "<div>\n",
       "<style scoped>\n",
       "    .dataframe tbody tr th:only-of-type {\n",
       "        vertical-align: middle;\n",
       "    }\n",
       "\n",
       "    .dataframe tbody tr th {\n",
       "        vertical-align: top;\n",
       "    }\n",
       "\n",
       "    .dataframe thead th {\n",
       "        text-align: right;\n",
       "    }\n",
       "</style>\n",
       "<table border=\"1\" class=\"dataframe\">\n",
       "  <thead>\n",
       "    <tr style=\"text-align: right;\">\n",
       "      <th></th>\n",
       "      <th>PassengerId</th>\n",
       "      <th>Survived</th>\n",
       "      <th>Pclass</th>\n",
       "      <th>Name</th>\n",
       "      <th>Sex</th>\n",
       "      <th>Age</th>\n",
       "      <th>SibSp</th>\n",
       "      <th>Parch</th>\n",
       "      <th>Ticket</th>\n",
       "      <th>Fare</th>\n",
       "      <th>Cabin</th>\n",
       "      <th>Embarked</th>\n",
       "    </tr>\n",
       "  </thead>\n",
       "  <tbody>\n",
       "    <tr>\n",
       "      <th>0</th>\n",
       "      <td>1</td>\n",
       "      <td>0</td>\n",
       "      <td>3</td>\n",
       "      <td>Braund, Mr. Owen Harris</td>\n",
       "      <td>male</td>\n",
       "      <td>22.0</td>\n",
       "      <td>1</td>\n",
       "      <td>0</td>\n",
       "      <td>A/5 21171</td>\n",
       "      <td>7.2500</td>\n",
       "      <td>NaN</td>\n",
       "      <td>S</td>\n",
       "    </tr>\n",
       "    <tr>\n",
       "      <th>1</th>\n",
       "      <td>2</td>\n",
       "      <td>1</td>\n",
       "      <td>1</td>\n",
       "      <td>Cumings, Mrs. John Bradley (Florence Briggs Th...</td>\n",
       "      <td>female</td>\n",
       "      <td>38.0</td>\n",
       "      <td>1</td>\n",
       "      <td>0</td>\n",
       "      <td>PC 17599</td>\n",
       "      <td>71.2833</td>\n",
       "      <td>C85</td>\n",
       "      <td>C</td>\n",
       "    </tr>\n",
       "    <tr>\n",
       "      <th>2</th>\n",
       "      <td>3</td>\n",
       "      <td>1</td>\n",
       "      <td>3</td>\n",
       "      <td>Heikkinen, Miss. Laina</td>\n",
       "      <td>female</td>\n",
       "      <td>26.0</td>\n",
       "      <td>0</td>\n",
       "      <td>0</td>\n",
       "      <td>STON/O2. 3101282</td>\n",
       "      <td>7.9250</td>\n",
       "      <td>NaN</td>\n",
       "      <td>S</td>\n",
       "    </tr>\n",
       "    <tr>\n",
       "      <th>3</th>\n",
       "      <td>4</td>\n",
       "      <td>1</td>\n",
       "      <td>1</td>\n",
       "      <td>Futrelle, Mrs. Jacques Heath (Lily May Peel)</td>\n",
       "      <td>female</td>\n",
       "      <td>35.0</td>\n",
       "      <td>1</td>\n",
       "      <td>0</td>\n",
       "      <td>113803</td>\n",
       "      <td>53.1000</td>\n",
       "      <td>C123</td>\n",
       "      <td>S</td>\n",
       "    </tr>\n",
       "    <tr>\n",
       "      <th>4</th>\n",
       "      <td>5</td>\n",
       "      <td>0</td>\n",
       "      <td>3</td>\n",
       "      <td>Allen, Mr. William Henry</td>\n",
       "      <td>male</td>\n",
       "      <td>35.0</td>\n",
       "      <td>0</td>\n",
       "      <td>0</td>\n",
       "      <td>373450</td>\n",
       "      <td>8.0500</td>\n",
       "      <td>NaN</td>\n",
       "      <td>S</td>\n",
       "    </tr>\n",
       "  </tbody>\n",
       "</table>\n",
       "</div>"
      ],
      "text/plain": [
       "   PassengerId  Survived  Pclass  \\\n",
       "0            1         0       3   \n",
       "1            2         1       1   \n",
       "2            3         1       3   \n",
       "3            4         1       1   \n",
       "4            5         0       3   \n",
       "\n",
       "                                                Name     Sex   Age  SibSp  \\\n",
       "0                            Braund, Mr. Owen Harris    male  22.0      1   \n",
       "1  Cumings, Mrs. John Bradley (Florence Briggs Th...  female  38.0      1   \n",
       "2                             Heikkinen, Miss. Laina  female  26.0      0   \n",
       "3       Futrelle, Mrs. Jacques Heath (Lily May Peel)  female  35.0      1   \n",
       "4                           Allen, Mr. William Henry    male  35.0      0   \n",
       "\n",
       "   Parch            Ticket     Fare Cabin Embarked  \n",
       "0      0         A/5 21171   7.2500   NaN        S  \n",
       "1      0          PC 17599  71.2833   C85        C  \n",
       "2      0  STON/O2. 3101282   7.9250   NaN        S  \n",
       "3      0            113803  53.1000  C123        S  \n",
       "4      0            373450   8.0500   NaN        S  "
      ]
     },
     "execution_count": 4,
     "metadata": {},
     "output_type": "execute_result"
    }
   ],
   "source": [
    "train.head()"
   ]
  },
  {
   "cell_type": "code",
   "execution_count": 5,
   "metadata": {},
   "outputs": [
    {
     "name": "stdout",
     "output_type": "stream",
     "text": [
      "---------------\n",
      "PassengerId :\n",
      "---------------\n",
      "891    1\n",
      "293    1\n",
      "304    1\n",
      "303    1\n",
      "302    1\n",
      "301    1\n",
      "300    1\n",
      "299    1\n",
      "298    1\n",
      "297    1\n",
      "296    1\n",
      "295    1\n",
      "294    1\n",
      "292    1\n",
      "306    1\n",
      "291    1\n",
      "290    1\n",
      "289    1\n",
      "288    1\n",
      "287    1\n",
      "286    1\n",
      "285    1\n",
      "284    1\n",
      "283    1\n",
      "282    1\n",
      "281    1\n",
      "305    1\n",
      "307    1\n",
      "279    1\n",
      "321    1\n",
      "      ..\n",
      "561    1\n",
      "560    1\n",
      "584    1\n",
      "585    1\n",
      "586    1\n",
      "587    1\n",
      "610    1\n",
      "609    1\n",
      "608    1\n",
      "607    1\n",
      "606    1\n",
      "605    1\n",
      "604    1\n",
      "603    1\n",
      "602    1\n",
      "601    1\n",
      "600    1\n",
      "599    1\n",
      "598    1\n",
      "597    1\n",
      "596    1\n",
      "595    1\n",
      "594    1\n",
      "593    1\n",
      "592    1\n",
      "591    1\n",
      "590    1\n",
      "589    1\n",
      "588    1\n",
      "1      1\n",
      "Name: PassengerId, Length: 891, dtype: int64\n",
      "---------------\n",
      "Survived :\n",
      "---------------\n",
      "0    549\n",
      "1    342\n",
      "Name: Survived, dtype: int64\n",
      "---------------\n",
      "Pclass :\n",
      "---------------\n",
      "3    491\n",
      "1    216\n",
      "2    184\n",
      "Name: Pclass, dtype: int64\n",
      "---------------\n",
      "Name :\n",
      "---------------\n",
      "Mellors, Mr. William John                               1\n",
      "Dimic, Mr. Jovan                                        1\n",
      "Flynn, Mr. John                                         1\n",
      "Walker, Mr. William Anderson                            1\n",
      "Oreskovic, Miss. Marija                                 1\n",
      "Millet, Mr. Francis Davis                               1\n",
      "Collyer, Mrs. Harvey (Charlotte Annie Tate)             1\n",
      "Shutes, Miss. Elizabeth W                               1\n",
      "Doling, Miss. Elsie                                     1\n",
      "Giles, Mr. Frederick Edward                             1\n",
      "Slocovski, Mr. Selman Francis                           1\n",
      "Boulos, Mr. Hanna                                       1\n",
      "Porter, Mr. Walter Chamberlain                          1\n",
      "Hocking, Mr. Richard George                             1\n",
      "Potter, Mrs. Thomas Jr (Lily Alexenia Wilson)           1\n",
      "Petterson, Mr. Johan Emil                               1\n",
      "White, Mr. Percival Wayland                             1\n",
      "Hansen, Mr. Henrik Juul                                 1\n",
      "Ostby, Mr. Engelhart Cornelius                          1\n",
      "Nakid, Miss. Maria (\"Mary\")                             1\n",
      "Leyson, Mr. Robert William Norman                       1\n",
      "Skoog, Miss. Margit Elizabeth                           1\n",
      "Roebling, Mr. Washington Augustus II                    1\n",
      "Lesurer, Mr. Gustave J                                  1\n",
      "Crosby, Capt. Edward Gifford                            1\n",
      "Francatelli, Miss. Laura Mabel                          1\n",
      "Svensson, Mr. Olof                                      1\n",
      "Saad, Mr. Amin                                          1\n",
      "Harris, Mr. George                                      1\n",
      "Hanna, Mr. Mansour                                      1\n",
      "                                                       ..\n",
      "Hale, Mr. Reginald                                      1\n",
      "Asplund, Master. Edvin Rojj Felix                       1\n",
      "Hart, Mrs. Benjamin (Esther Ada Bloomfield)             1\n",
      "Hosono, Mr. Masabumi                                    1\n",
      "Jonsson, Mr. Carl                                       1\n",
      "O'Dwyer, Miss. Ellen \"Nellie\"                           1\n",
      "Ayoub, Miss. Banoura                                    1\n",
      "Kallio, Mr. Nikolai Erland                              1\n",
      "Andersson, Miss. Sigrid Elisabeth                       1\n",
      "Ponesell, Mr. Martin                                    1\n",
      "Holverson, Mrs. Alexander Oskar (Mary Aline Towner)     1\n",
      "Van Impe, Mrs. Jean Baptiste (Rosalie Paula Govaert)    1\n",
      "Sinkkonen, Miss. Anna                                   1\n",
      "Rekic, Mr. Tido                                         1\n",
      "Stead, Mr. William Thomas                               1\n",
      "Razi, Mr. Raihed                                        1\n",
      "West, Mrs. Edwy Arthur (Ada Mary Worth)                 1\n",
      "Betros, Mr. Tannous                                     1\n",
      "Fry, Mr. Richard                                        1\n",
      "Tomlin, Mr. Ernest Portage                              1\n",
      "Icard, Miss. Amelie                                     1\n",
      "Salonen, Mr. Johan Werner                               1\n",
      "Ali, Mr. William                                        1\n",
      "Christmann, Mr. Emil                                    1\n",
      "Sivic, Mr. Husein                                       1\n",
      "Pears, Mr. Thomas Clinton                               1\n",
      "Bourke, Mrs. John (Catherine)                           1\n",
      "Hart, Mr. Henry                                         1\n",
      "Rintamaki, Mr. Matti                                    1\n",
      "Harris, Mr. Henry Birkhardt                             1\n",
      "Name: Name, Length: 891, dtype: int64\n",
      "---------------\n",
      "Sex :\n",
      "---------------\n",
      "male      577\n",
      "female    314\n",
      "Name: Sex, dtype: int64\n",
      "---------------\n",
      "Age :\n",
      "---------------\n",
      "24.00    30\n",
      "22.00    27\n",
      "18.00    26\n",
      "19.00    25\n",
      "30.00    25\n",
      "28.00    25\n",
      "21.00    24\n",
      "25.00    23\n",
      "36.00    22\n",
      "29.00    20\n",
      "32.00    18\n",
      "27.00    18\n",
      "35.00    18\n",
      "26.00    18\n",
      "16.00    17\n",
      "31.00    17\n",
      "20.00    15\n",
      "33.00    15\n",
      "23.00    15\n",
      "34.00    15\n",
      "39.00    14\n",
      "17.00    13\n",
      "42.00    13\n",
      "40.00    13\n",
      "45.00    12\n",
      "38.00    11\n",
      "50.00    10\n",
      "2.00     10\n",
      "4.00     10\n",
      "47.00     9\n",
      "         ..\n",
      "71.00     2\n",
      "59.00     2\n",
      "63.00     2\n",
      "0.83      2\n",
      "30.50     2\n",
      "70.00     2\n",
      "57.00     2\n",
      "0.75      2\n",
      "13.00     2\n",
      "10.00     2\n",
      "64.00     2\n",
      "40.50     2\n",
      "32.50     2\n",
      "45.50     2\n",
      "20.50     1\n",
      "24.50     1\n",
      "0.67      1\n",
      "14.50     1\n",
      "0.92      1\n",
      "74.00     1\n",
      "34.50     1\n",
      "80.00     1\n",
      "12.00     1\n",
      "36.50     1\n",
      "53.00     1\n",
      "55.50     1\n",
      "70.50     1\n",
      "66.00     1\n",
      "23.50     1\n",
      "0.42      1\n",
      "Name: Age, Length: 88, dtype: int64\n",
      "---------------\n",
      "SibSp :\n",
      "---------------\n",
      "0    608\n",
      "1    209\n",
      "2     28\n",
      "4     18\n",
      "3     16\n",
      "8      7\n",
      "5      5\n",
      "Name: SibSp, dtype: int64\n",
      "---------------\n",
      "Parch :\n",
      "---------------\n",
      "0    678\n",
      "1    118\n",
      "2     80\n",
      "5      5\n",
      "3      5\n",
      "4      4\n",
      "6      1\n",
      "Name: Parch, dtype: int64\n",
      "---------------\n",
      "Ticket :\n",
      "---------------\n",
      "CA. 2343             7\n",
      "1601                 7\n",
      "347082               7\n",
      "3101295              6\n",
      "CA 2144              6\n",
      "347088               6\n",
      "382652               5\n",
      "S.O.C. 14879         5\n",
      "PC 17757             4\n",
      "19950                4\n",
      "2666                 4\n",
      "113760               4\n",
      "113781               4\n",
      "4133                 4\n",
      "347077               4\n",
      "LINE                 4\n",
      "W./C. 6608           4\n",
      "349909               4\n",
      "17421                4\n",
      "345773               3\n",
      "PC 17755             3\n",
      "C.A. 34651           3\n",
      "PC 17582             3\n",
      "PC 17572             3\n",
      "F.C.C. 13529         3\n",
      "SC/Paris 2123        3\n",
      "371110               3\n",
      "29106                3\n",
      "248727               3\n",
      "24160                3\n",
      "                    ..\n",
      "7545                 1\n",
      "350046               1\n",
      "371362               1\n",
      "364850               1\n",
      "237442               1\n",
      "334912               1\n",
      "6563                 1\n",
      "349225               1\n",
      "113767               1\n",
      "113043               1\n",
      "345572               1\n",
      "14312                1\n",
      "370372               1\n",
      "250648               1\n",
      "345777               1\n",
      "335677               1\n",
      "F.C.C. 13531         1\n",
      "PC 17599             1\n",
      "330935               1\n",
      "349214               1\n",
      "4137                 1\n",
      "A/5 3536             1\n",
      "349215               1\n",
      "PC 17590             1\n",
      "239855               1\n",
      "STON/O 2. 3101274    1\n",
      "347063               1\n",
      "349217               1\n",
      "348121               1\n",
      "370376               1\n",
      "Name: Ticket, Length: 681, dtype: int64\n",
      "---------------\n",
      "Fare :\n",
      "---------------\n",
      "8.0500      43\n",
      "13.0000     42\n",
      "7.8958      38\n",
      "7.7500      34\n",
      "26.0000     31\n",
      "10.5000     24\n",
      "7.9250      18\n",
      "7.7750      16\n",
      "26.5500     15\n",
      "0.0000      15\n",
      "7.2292      15\n",
      "7.8542      13\n",
      "8.6625      13\n",
      "7.2500      13\n",
      "7.2250      12\n",
      "16.1000      9\n",
      "9.5000       9\n",
      "24.1500      8\n",
      "15.5000      8\n",
      "56.4958      7\n",
      "52.0000      7\n",
      "14.5000      7\n",
      "14.4542      7\n",
      "69.5500      7\n",
      "7.0500       7\n",
      "31.2750      7\n",
      "46.9000      6\n",
      "30.0000      6\n",
      "7.7958       6\n",
      "39.6875      6\n",
      "            ..\n",
      "7.1417       1\n",
      "42.4000      1\n",
      "211.5000     1\n",
      "12.2750      1\n",
      "61.1750      1\n",
      "8.4333       1\n",
      "51.4792      1\n",
      "7.8875       1\n",
      "8.6833       1\n",
      "7.5208       1\n",
      "34.6542      1\n",
      "28.7125      1\n",
      "25.5875      1\n",
      "7.7292       1\n",
      "12.2875      1\n",
      "8.6542       1\n",
      "8.7125       1\n",
      "61.3792      1\n",
      "6.9500       1\n",
      "9.8417       1\n",
      "8.3000       1\n",
      "13.7917      1\n",
      "9.4750       1\n",
      "13.4167      1\n",
      "26.3875      1\n",
      "8.4583       1\n",
      "9.8375       1\n",
      "8.3625       1\n",
      "14.1083      1\n",
      "17.4000      1\n",
      "Name: Fare, Length: 248, dtype: int64\n",
      "---------------\n",
      "Cabin :\n",
      "---------------\n",
      "G6                 4\n",
      "B96 B98            4\n",
      "C23 C25 C27        4\n",
      "F33                3\n",
      "C22 C26            3\n",
      "F2                 3\n",
      "D                  3\n",
      "E101               3\n",
      "E44                2\n",
      "C93                2\n",
      "B51 B53 B55        2\n",
      "E121               2\n",
      "B58 B60            2\n",
      "E25                2\n",
      "C125               2\n",
      "B22                2\n",
      "C68                2\n",
      "B20                2\n",
      "E24                2\n",
      "B5                 2\n",
      "B18                2\n",
      "C52                2\n",
      "E67                2\n",
      "B57 B59 B63 B66    2\n",
      "B49                2\n",
      "C126               2\n",
      "D26                2\n",
      "C123               2\n",
      "B35                2\n",
      "E8                 2\n",
      "                  ..\n",
      "B86                1\n",
      "E10                1\n",
      "A36                1\n",
      "D7                 1\n",
      "E68                1\n",
      "E50                1\n",
      "C90                1\n",
      "C118               1\n",
      "E31                1\n",
      "D48                1\n",
      "B78                1\n",
      "C32                1\n",
      "C91                1\n",
      "D21                1\n",
      "B94                1\n",
      "E17                1\n",
      "C49                1\n",
      "B102               1\n",
      "A10                1\n",
      "A7                 1\n",
      "D46                1\n",
      "D28                1\n",
      "C111               1\n",
      "D11                1\n",
      "C87                1\n",
      "A26                1\n",
      "A24                1\n",
      "D6                 1\n",
      "A14                1\n",
      "D19                1\n",
      "Name: Cabin, Length: 147, dtype: int64\n",
      "---------------\n",
      "Embarked :\n",
      "---------------\n",
      "S    644\n",
      "C    168\n",
      "Q     77\n",
      "Name: Embarked, dtype: int64\n"
     ]
    }
   ],
   "source": [
    "for col in train.columns:\n",
    "    print(\"---------------\")\n",
    "    print(col,\":\")\n",
    "    print(\"---------------\")\n",
    "    print(train[col].value_counts())\n",
    "    #.sort_values()\n",
    "   "
   ]
  },
  {
   "cell_type": "markdown",
   "metadata": {},
   "source": [
    "data exploration summry:\n",
    "------------------------------------\n",
    "missing values: age 177 - check corr with target and impute, cabin 687 - change for binary and check contribution, Embarked 2 - delete 2 rows\n",
    "<br>\n",
    "outliers: parch, SibSp - we will check corr and asghin difrent categris\n",
    "<br>\n",
    "ticket - drop.\n",
    "<br>\n",
    "name - mybe extract merrige status\n",
    "<br>\n",
    "modle baseline = 0.38 Survived 0.62 did not e.g if we guess\n",
    "<br>"
   ]
  },
  {
   "cell_type": "code",
   "execution_count": 6,
   "metadata": {
    "scrolled": false
   },
   "outputs": [
    {
     "name": "stdout",
     "output_type": "stream",
     "text": [
      "<class 'pandas.core.frame.DataFrame'>\n",
      "Int64Index: 889 entries, 0 to 890\n",
      "Data columns (total 11 columns):\n",
      "PassengerId    889 non-null int64\n",
      "Survived       889 non-null int64\n",
      "Pclass         889 non-null int64\n",
      "Name           889 non-null object\n",
      "Age            712 non-null float64\n",
      "Fare           889 non-null float64\n",
      "Embarked       889 non-null object\n",
      "Cabin_cat      889 non-null int64\n",
      "SibSp_cat      889 non-null int64\n",
      "Parch_cat      889 non-null int64\n",
      "Sex_cat        889 non-null int64\n",
      "dtypes: float64(2), int64(7), object(2)\n",
      "memory usage: 83.3+ KB\n"
     ]
    }
   ],
   "source": [
    "prep_train = train.copy()\n",
    "prep_train = prep_train.drop(columns = \"Ticket\")\n",
    "prep_train = prep_train.dropna(subset = [\"Embarked\"])\n",
    "prep_train['Cabin_cat'] = prep_train['Cabin'].fillna(0).apply(lambda x: 0 if x == 0 else 1)\n",
    "prep_train['SibSp_cat'] = prep_train['SibSp'].apply(lambda x: 5 if x>=5 else x)\n",
    "prep_train = prep_train.drop(columns = \"SibSp\")\n",
    "prep_train['Parch_cat'] = prep_train['Parch'].apply(lambda x: 2 if x>=2 else x)\n",
    "prep_train = prep_train.drop(columns = \"Parch\")\n",
    "prep_train['Sex_cat'] = prep_train['Sex'].apply(lambda x: 0 if x == \"female\" else 1)\n",
    "prep_train = prep_train.drop(columns = \"Sex\")\n",
    "prep_train = prep_train.drop(columns = \"Cabin\")\n",
    "cat_var = [\"Sex_cat\",\"SibSp_cat\",\"Parch_cat\",\"Cabin_cat\",\"Embarked\",\"Pclass\"]\n",
    "numric_var = [\"Age\",\"Fare\",\"Age_impute\"]\n",
    "target  = \"Survived\"\n",
    "prep_train.info()"
   ]
  },
  {
   "cell_type": "markdown",
   "metadata": {},
   "source": [
    "impute age "
   ]
  },
  {
   "cell_type": "code",
   "execution_count": 7,
   "metadata": {},
   "outputs": [
    {
     "name": "stderr",
     "output_type": "stream",
     "text": [
      "C:\\Users\\kfir\\Anaconda3\\lib\\site-packages\\missingpy\\utils.py:124: RuntimeWarning: invalid value encountered in sqrt\n",
      "  return distances if squared else np.sqrt(distances, out=distances)\n"
     ]
    }
   ],
   "source": [
    "prep_train[\"Age_impute\"] = prep_train[\"Age\"]\n",
    "imputer = KNNImputer()\n",
    "x = imputer.fit_transform(prep_train[[\"Age\",\"Pclass\",\"Fare\",\"Sex_cat\",\"Parch_cat\",\"SibSp_cat\",\"Cabin_cat\"]])\n",
    "x = imputer.fit_transform(prep_train[[\"Age\",\"Survived\"]])\n",
    "prep_train[\"Age_impute\"] = x[:,0]\n",
    "\n"
   ]
  },
  {
   "cell_type": "code",
   "execution_count": 8,
   "metadata": {},
   "outputs": [
    {
     "data": {
      "image/png": "[encoded data removed]",
      "text/plain": [
       "<Figure size 432x288 with 1 Axes>"
      ]
     },
     "metadata": {
      "needs_background": "light"
     },
     "output_type": "display_data"
    },
    {
     "data": {
      "text/plain": [
       "<matplotlib.axes._subplots.AxesSubplot at 0x20367539a20>"
      ]
     },
     "execution_count": 8,
     "metadata": {},
     "output_type": "execute_result"
    },
    {
     "data": {
      "image/png": "[encoded data removed]",
      "text/plain": [
       "<Figure size 432x288 with 1 Axes>"
      ]
     },
     "metadata": {
      "needs_background": "light"
     },
     "output_type": "display_data"
    }
   ],
   "source": [
    "#ns.boxplot(x=prep_train[target],y=prep_train[var])\n",
    "sns.boxplot(prep_train[\"Survived\"], prep_train[\"Age_impute\"])\n",
    "plt.show()\n",
    "sns.boxplot(prep_train[\"Survived\"], prep_train[\"Age\"])\n",
    "\n"
   ]
  },
  {
   "cell_type": "code",
   "execution_count": 9,
   "metadata": {},
   "outputs": [
    {
     "data": {
      "image/png": "[encoded data removed]",
      "text/plain": [
       "<Figure size 432x288 with 2 Axes>"
      ]
     },
     "metadata": {
      "needs_background": "light"
     },
     "output_type": "display_data"
    },
    {
     "name": "stdout",
     "output_type": "stream",
     "text": [
      "Survived    0    1\n",
      "Sex_cat           \n",
      "0          81  231\n",
      "1         468  109\n",
      "stat: 258.4266104463763 carmer's V: 0.538\n"
     ]
    },
    {
     "data": {
      "image/png": "[encoded data removed]",
      "text/plain": [
       "<Figure size 432x288 with 2 Axes>"
      ]
     },
     "metadata": {
      "needs_background": "light"
     },
     "output_type": "display_data"
    },
    {
     "name": "stdout",
     "output_type": "stream",
     "text": [
      "Survived     0    1\n",
      "SibSp_cat          \n",
      "0          398  208\n",
      "1           97  112\n",
      "2           15   13\n",
      "3           12    4\n",
      "4           15    3\n",
      "5           12    0\n",
      "stat: 37.741348475705145 carmer's V: 0.192\n"
     ]
    },
    {
     "data": {
      "image/png": "[encoded data removed]",
      "text/plain": [
       "<Figure size 432x288 with 2 Axes>"
      ]
     },
     "metadata": {
      "needs_background": "light"
     },
     "output_type": "display_data"
    },
    {
     "name": "stdout",
     "output_type": "stream",
     "text": [
      "Survived     0    1\n",
      "Parch_cat          \n",
      "0          445  231\n",
      "1           53   65\n",
      "2           51   44\n",
      "stat: 21.537059608833346 carmer's V: 0.148\n"
     ]
    },
    {
     "data": {
      "image/png": "[encoded data removed]",
      "text/plain": [
       "<Figure size 432x288 with 2 Axes>"
      ]
     },
     "metadata": {
      "needs_background": "light"
     },
     "output_type": "display_data"
    },
    {
     "name": "stdout",
     "output_type": "stream",
     "text": [
      "Survived     0    1\n",
      "Cabin_cat          \n",
      "0          481  206\n",
      "1           68  134\n",
      "stat: 85.80418269727531 carmer's V: 0.309\n"
     ]
    },
    {
     "data": {
      "image/png": "[encoded data removed]",
      "text/plain": [
       "<Figure size 432x288 with 2 Axes>"
      ]
     },
     "metadata": {
      "needs_background": "light"
     },
     "output_type": "display_data"
    },
    {
     "name": "stdout",
     "output_type": "stream",
     "text": [
      "Survived    0    1\n",
      "Embarked          \n",
      "C          75   93\n",
      "Q          47   30\n",
      "S         427  217\n",
      "stat: 26.48914983923762 carmer's V: 0.166\n"
     ]
    },
    {
     "data": {
      "image/png": "[encoded data removed]",
      "text/plain": [
       "<Figure size 432x288 with 2 Axes>"
      ]
     },
     "metadata": {
      "needs_background": "light"
     },
     "output_type": "display_data"
    },
    {
     "name": "stdout",
     "output_type": "stream",
     "text": [
      "Survived    0    1\n",
      "Pclass            \n",
      "1          80  134\n",
      "2          97   87\n",
      "3         372  119\n",
      "stat: 100.98040726128336 carmer's V: 0.334\n"
     ]
    }
   ],
   "source": [
    "\n",
    "for var in cat_var:\n",
    "    plt.figure(var)\n",
    "    plt.subplot(1,2,1)\n",
    "    to_plot = prep_train.groupby([var])[target].value_counts(normalize = True).rename(\"percent\").reset_index()\n",
    "    sns.barplot(data = to_plot,x=var,y=\"percent\", hue = target)\n",
    "    plt.subplot(1,2,2)\n",
    "    sns.countplot(prep_train[var])\n",
    "    plt.show()\n",
    "    table = pd.crosstab(prep_train[var],prep_train[target])\n",
    "    chi, p, dof, exp  = chi2_contingency(table)\n",
    "    n = table.sum().sum()\n",
    "    phi2 = chi/n\n",
    "    r,k = table.shape\n",
    "    phi2corr = max(0, phi2-((k-1)*(r-1))/(n-1))\n",
    "    rcorr = r-((r-1)**2)/(n-1)\n",
    "    kcorr = k-((k-1)**2)/(n-1)\n",
    "    corr = np.sqrt(phi2corr/min((kcorr-1),(rcorr-1)))\n",
    "    print(table)\n",
    "    print(\"stat:\",chi,\"carmer's V:\",\"{:.3f}\".format(corr))\n",
    "    "
   ]
  },
  {
   "cell_type": "code",
   "execution_count": 10,
   "metadata": {},
   "outputs": [
    {
     "name": "stdout",
     "output_type": "stream",
     "text": [
      "Age\n",
      "-----\n",
      "               Age  Survived\n",
      "Age       1.000000 -0.082446\n",
      "Survived -0.082446  1.000000\n"
     ]
    },
    {
     "data": {
      "image/png": "[encoded data removed]",
      "text/plain": [
       "<Figure size 432x288 with 1 Axes>"
      ]
     },
     "metadata": {
      "needs_background": "light"
     },
     "output_type": "display_data"
    },
    {
     "name": "stdout",
     "output_type": "stream",
     "text": [
      "Fare\n",
      "-----\n",
      "             Fare  Survived\n",
      "Fare      1.00000   0.25529\n",
      "Survived  0.25529   1.00000\n"
     ]
    },
    {
     "data": {
      "image/png": "[encoded data removed]",
      "text/plain": [
       "<Figure size 432x288 with 1 Axes>"
      ]
     },
     "metadata": {
      "needs_background": "light"
     },
     "output_type": "display_data"
    },
    {
     "name": "stdout",
     "output_type": "stream",
     "text": [
      "Age_impute\n",
      "-----\n",
      "            Age_impute  Survived\n",
      "Age_impute    1.000000 -0.109081\n",
      "Survived     -0.109081  1.000000\n"
     ]
    },
    {
     "data": {
      "image/png": "[encoded data removed]",
      "text/plain": [
       "<Figure size 432x288 with 1 Axes>"
      ]
     },
     "metadata": {
      "needs_background": "light"
     },
     "output_type": "display_data"
    }
   ],
   "source": [
    "for var in numric_var:\n",
    "    plt.figure()\n",
    "    print(var)\n",
    "    print(\"-----\")\n",
    "    sns.boxplot(x=prep_train[target],y=prep_train[var])\n",
    "    print(pd.DataFrame(prep_train[[var,target]]).corr())\n",
    "    plt.show()\n",
    "\n"
   ]
  },
  {
   "cell_type": "markdown",
   "metadata": {},
   "source": [
    "# correlation's X"
   ]
  },
  {
   "cell_type": "code",
   "execution_count": 11,
   "metadata": {},
   "outputs": [
    {
     "ename": "NameError",
     "evalue": "name 'ord_var' is not defined",
     "output_type": "error",
     "traceback": [
      "\u001b[1;31m---------------------------------------------------------------------------\u001b[0m",
      "\u001b[1;31mNameError\u001b[0m                                 Traceback (most recent call last)",
      "\u001b[1;32m<ipython-input-11-134aff4c5cbe>\u001b[0m in \u001b[0;36m<module>\u001b[1;34m\u001b[0m\n\u001b[0;32m      1\u001b[0m \u001b[0ma\u001b[0m \u001b[1;33m=\u001b[0m \u001b[0mpd\u001b[0m\u001b[1;33m.\u001b[0m\u001b[0mDataFrame\u001b[0m\u001b[1;33m(\u001b[0m\u001b[0mcolumns\u001b[0m\u001b[1;33m=\u001b[0m\u001b[1;33m[\u001b[0m\u001b[1;34m\"var1\"\u001b[0m\u001b[1;33m,\u001b[0m\u001b[1;34m\"var2\"\u001b[0m\u001b[1;33m,\u001b[0m\u001b[1;34m\"caramer's V\"\u001b[0m\u001b[1;33m]\u001b[0m\u001b[1;33m)\u001b[0m\u001b[1;33m\u001b[0m\u001b[1;33m\u001b[0m\u001b[0m\n\u001b[1;32m----> 2\u001b[1;33m \u001b[0mord_var_new\u001b[0m \u001b[1;33m=\u001b[0m \u001b[0mord_var\u001b[0m \u001b[1;33m+\u001b[0m \u001b[0mbin_var\u001b[0m \u001b[1;33m+\u001b[0m \u001b[0mc_var\u001b[0m\u001b[1;33m\u001b[0m\u001b[1;33m\u001b[0m\u001b[0m\n\u001b[0m\u001b[0;32m      3\u001b[0m \u001b[1;32mfor\u001b[0m \u001b[0mi\u001b[0m \u001b[1;32min\u001b[0m \u001b[0mord_var\u001b[0m \u001b[1;33m+\u001b[0m \u001b[0mbin_var\u001b[0m \u001b[1;33m+\u001b[0m \u001b[0mc_var\u001b[0m\u001b[1;33m:\u001b[0m\u001b[1;33m\u001b[0m\u001b[1;33m\u001b[0m\u001b[0m\n\u001b[0;32m      4\u001b[0m     \u001b[0mord_var_new\u001b[0m\u001b[1;33m.\u001b[0m\u001b[0mpop\u001b[0m\u001b[1;33m(\u001b[0m\u001b[1;36m0\u001b[0m\u001b[1;33m)\u001b[0m\u001b[1;33m\u001b[0m\u001b[1;33m\u001b[0m\u001b[0m\n\u001b[0;32m      5\u001b[0m     \u001b[1;32mfor\u001b[0m \u001b[0mj\u001b[0m \u001b[1;32min\u001b[0m \u001b[0mord_var_new\u001b[0m\u001b[1;33m:\u001b[0m\u001b[1;33m\u001b[0m\u001b[1;33m\u001b[0m\u001b[0m\n",
      "\u001b[1;31mNameError\u001b[0m: name 'ord_var' is not defined"
     ]
    }
   ],
   "source": [
    "a = pd.DataFrame(columns=[\"var1\",\"var2\",\"caramer's V\"])\n",
    "ord_var_new = ord_var + bin_var + c_var\n",
    "for i in ord_var + bin_var + c_var:\n",
    "    ord_var_new.pop(0)\n",
    "    for j in ord_var_new:\n",
    "        confusion_matrix = pd.crosstab(prep_train[i],prep_train[j])\n",
    "        chi2 = stats.chi2_contingency(confusion_matrix)[0]\n",
    "        n = confusion_matrix.sum().sum()\n",
    "        phi2 = chi2/n\n",
    "        r,k = confusion_matrix.shape\n",
    "        phi2corr = max(0, phi2-((k-1)*(r-1))/(n-1))\n",
    "        rcorr = r-((r-1)**2)/(n-1)\n",
    "        kcorr = k-((k-1)**2)/(n-1)\n",
    "        corr = np.sqrt(phi2corr/min((kcorr-1),(rcorr-1)))\n",
    "        #corr, p = scipy.stats.spearmanr(prep_train[i],prep_train[j])\n",
    "        a = a.append({\"var1\": i,\"var2\": j, \"caramer's V\": corr}, ignore_index = True)\n",
    "print(a.sort_values(by = \"caramer's V\"))"
   ]
  },
  {
   "cell_type": "code",
   "execution_count": null,
   "metadata": {},
   "outputs": [],
   "source": [
    "prep_train[[\"Embarked\",\"SibSp_cat\"]].corr()"
   ]
  },
  {
   "cell_type": "markdown",
   "metadata": {},
   "source": [
    "we can see that pclass and cabin_cat are correlated and also sibsp_cat and parch_cat \n",
    "<br>\n",
    "sibsp_cat and parch_cat = we will make new var = sum(sibsp_cat,parch_cat) \n",
    "<br>\n",
    "we leave for now and will see in the feture selection in CV"
   ]
  },
  {
   "cell_type": "code",
   "execution_count": null,
   "metadata": {},
   "outputs": [],
   "source": [
    "sns.countplot(prep_train[\"Embarked\"])"
   ]
  },
  {
   "cell_type": "code",
   "execution_count": null,
   "metadata": {},
   "outputs": [],
   "source": [
    "len(train.columns)"
   ]
  }
 ],
 "metadata": {
  "kernelspec": {
   "display_name": "Python 3",
   "language": "python",
   "name": "python3"
  },
  "language_info": {
   "codemirror_mode": {
    "name": "ipython",
    "version": 3
   },
   "file_extension": ".py",
   "mimetype": "text/x-python",
   "name": "python",
   "nbconvert_exporter": "python",
   "pygments_lexer": "ipython3",
   "version": "3.7.1"
  }
 },
 "nbformat": 4,
 "nbformat_minor": 2
}
